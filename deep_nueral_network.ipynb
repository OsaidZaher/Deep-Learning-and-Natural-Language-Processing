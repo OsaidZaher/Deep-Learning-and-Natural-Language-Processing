{
 "cells": [
  {
   "cell_type": "code",
   "execution_count": null,
   "metadata": {},
   "outputs": [],
   "source": [
    "import numpy as np\n",
    "from pathlib import Path\n",
    "import tensorflow as tf\n",
    "\n",
    "tf.random.set_seed(42)\n",
    "\n",
    "model = tf.keras.Sequential([\n",
    "    tf.keras.layers.Flatten(input_shape=(32, 32, 3))\n",
    "])\n",
    "\n",
    "for _ in range(20):\n",
    "    model.add(tf.keras.layers.BatchNormalization())\n",
    "    model.add(tf.keras.layers.Dense(100, activation='swish', kernel_initializer='he_normal'))\n",
    "\n",
    "cifar10 = tf.keras.datasets.cifar10.load_data()\n",
    "model.add(tf.keras.layers.Dense(10, activation='softmax'))\n",
    "\n",
    "optimizer = tf.keras.optimizers.Nadam(learning_rate=5e-5)\n",
    "model.compile(loss='sparse_categorical_crossentropy', optimizer=optimizer, metrics=['accuracy'])\n",
    "\n",
    "(X_full, y_full), (X_test, y_test) = cifar10\n",
    "X_train = X_full[5000:]\n",
    "y_train = y_full[5000:]\n",
    "X_valid = X_full[:5000]  # Fixed: using X_full instead of y_full\n",
    "y_valid = y_full[:5000]\n",
    "\n",
    "early_callback = tf.keras.callbacks.EarlyStopping(patience=20, restore_best_weights=True)\n",
    "checkpoint_callback = tf.keras.callbacks.ModelCheckpoint(\"my_cifar10_model.keras\", save_best_only=True)\n",
    "run_index = 1  # increment every time you train the model\n",
    "run_logdir = Path() / \"my_cifar10_logs\" / f\"run_bn_{run_index:03d}\"\n",
    "tensorboard_cb = tf.keras.callbacks.TensorBoard(run_logdir)\n",
    "callbacks = [early_callback, checkpoint_callback, tensorboard_cb]\n",
    "\n",
    "%load_ext tensorboard\n",
    "%tensorboard --logdir=./my_cifar10_logs\n",
    "\n",
    "model.fit(X_train, y_train, \n",
    "          epochs=100,\n",
    "          validation_data=(X_valid, y_valid), \n",
    "          callbacks=callbacks)"
   ]
  },
  {
   "cell_type": "code",
   "execution_count": null,
   "metadata": {},
   "outputs": [],
   "source": []
  }
 ],
 "metadata": {
  "kernelspec": {
   "display_name": "base",
   "language": "python",
   "name": "python3"
  },
  "language_info": {
   "codemirror_mode": {
    "name": "ipython",
    "version": 3
   },
   "file_extension": ".py",
   "mimetype": "text/x-python",
   "name": "python",
   "nbconvert_exporter": "python",
   "pygments_lexer": "ipython3",
   "version": "3.12.7"
  }
 },
 "nbformat": 4,
 "nbformat_minor": 2
}
